{
 "cells": [
  {
   "cell_type": "code",
   "execution_count": null,
   "id": "f36c796b",
   "metadata": {},
   "outputs": [],
   "source": [
    "# Multiple Inheritance: two parent one child\n",
    "\n",
    "\n",
    "\n",
    "class Parent1():\n",
    "    def assign_str_one(self,str1):\n",
    "        self.str1 = str1\n",
    "        \n",
    "    def show_str_one(self):\n",
    "        return self.str1\n",
    "    "
   ]
  },
  {
   "cell_type": "code",
   "execution_count": 21,
   "id": "f7e34057",
   "metadata": {},
   "outputs": [],
   "source": [
    "class Parent2():\n",
    "    def assign_str_two(self, str2):\n",
    "        self.str2 = str2\n",
    "    def show_str_two(self):\n",
    "        return self.str2"
   ]
  },
  {
   "cell_type": "code",
   "execution_count": 22,
   "id": "db9fab26",
   "metadata": {},
   "outputs": [],
   "source": [
    "class Child(Parent1, Parent2):\n",
    "    def assign_str_three(self, str3):\n",
    "        self.str3 = str3\n",
    "    def show_str_three (self):\n",
    "        return self.str3\n",
    "    "
   ]
  },
  {
   "cell_type": "code",
   "execution_count": 23,
   "id": "39574ae2",
   "metadata": {},
   "outputs": [],
   "source": [
    "c1 = Child()"
   ]
  },
  {
   "cell_type": "code",
   "execution_count": 24,
   "id": "e44c643c",
   "metadata": {},
   "outputs": [],
   "source": [
    "c1.assign_str_one(\"one\")\n"
   ]
  },
  {
   "cell_type": "code",
   "execution_count": 25,
   "id": "cad39895",
   "metadata": {},
   "outputs": [],
   "source": [
    "c1.assign_str_two(\"two\")"
   ]
  },
  {
   "cell_type": "code",
   "execution_count": 26,
   "id": "d9613f8c",
   "metadata": {},
   "outputs": [],
   "source": [
    "c1.assign_str_three(\"Three\")"
   ]
  },
  {
   "cell_type": "code",
   "execution_count": 27,
   "id": "779027d1",
   "metadata": {},
   "outputs": [
    {
     "data": {
      "text/plain": [
       "'one'"
      ]
     },
     "execution_count": 27,
     "metadata": {},
     "output_type": "execute_result"
    }
   ],
   "source": [
    "c1.show_str_one()"
   ]
  },
  {
   "cell_type": "code",
   "execution_count": 28,
   "id": "2ea6905b",
   "metadata": {},
   "outputs": [
    {
     "data": {
      "text/plain": [
       "'two'"
      ]
     },
     "execution_count": 28,
     "metadata": {},
     "output_type": "execute_result"
    }
   ],
   "source": [
    "c1.show_str_two()"
   ]
  },
  {
   "cell_type": "code",
   "execution_count": 29,
   "id": "6492465f",
   "metadata": {},
   "outputs": [
    {
     "data": {
      "text/plain": [
       "'Three'"
      ]
     },
     "execution_count": 29,
     "metadata": {},
     "output_type": "execute_result"
    }
   ],
   "source": [
    "c1.show_str_three()"
   ]
  },
  {
   "cell_type": "code",
   "execution_count": null,
   "id": "391c27b1",
   "metadata": {},
   "outputs": [],
   "source": []
  },
  {
   "cell_type": "code",
   "execution_count": 30,
   "id": "da443f41",
   "metadata": {},
   "outputs": [],
   "source": [
    "# Multilevel Inheritance"
   ]
  },
  {
   "cell_type": "code",
   "execution_count": null,
   "id": "5d9a11b4",
   "metadata": {},
   "outputs": [],
   "source": [
    "class Parent()"
   ]
  }
 ],
 "metadata": {
  "kernelspec": {
   "display_name": "Python 3 (ipykernel)",
   "language": "python",
   "name": "python3"
  },
  "language_info": {
   "codemirror_mode": {
    "name": "ipython",
    "version": 3
   },
   "file_extension": ".py",
   "mimetype": "text/x-python",
   "name": "python",
   "nbconvert_exporter": "python",
   "pygments_lexer": "ipython3",
   "version": "3.10.9"
  }
 },
 "nbformat": 4,
 "nbformat_minor": 5
}
