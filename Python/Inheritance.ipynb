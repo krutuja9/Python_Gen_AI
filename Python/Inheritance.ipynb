{
 "cells": [
  {
   "cell_type": "code",
   "execution_count": null,
   "id": "f36c796b",
   "metadata": {},
   "outputs": [],
   "source": [
    "# Multiple Inheritance: two parent one child\n",
    "\n",
    "\n",
    "\n",
    "class Parent1():\n",
    "    def assign_str_one(self,str1):\n",
    "        self.str1 = str1\n",
    "        \n",
    "    def show_str_one(self):\n",
    "        return self.str1\n",
    "    "
   ]
  },
  {
   "cell_type": "code",
   "execution_count": 21,
   "id": "f7e34057",
   "metadata": {},
   "outputs": [],
   "source": [
    "class Parent2():\n",
    "    def assign_str_two(self, str2):\n",
    "        self.str2 = str2\n",
    "    def show_str_two(self):\n",
    "        return self.str2"
   ]
  },
  {
   "cell_type": "code",
   "execution_count": 22,
   "id": "db9fab26",
   "metadata": {},
   "outputs": [],
   "source": [
    "class Child(Parent1, Parent2):\n",
    "    def assign_str_three(self, str3):\n",
    "        self.str3 = str3\n",
    "    def show_str_three (self):\n",
    "        return self.str3\n",
    "    "
   ]
  },
  {
   "cell_type": "code",
   "execution_count": 23,
   "id": "39574ae2",
   "metadata": {},
   "outputs": [],
   "source": [
    "c1 = Child()"
   ]
  },
  {
   "cell_type": "code",
   "execution_count": 24,
   "id": "e44c643c",
   "metadata": {},
   "outputs": [],
   "source": [
    "c1.assign_str_one(\"one\")\n"
   ]
  },
  {
   "cell_type": "code",
   "execution_count": 25,
   "id": "cad39895",
   "metadata": {},
   "outputs": [],
   "source": [
    "c1.assign_str_two(\"two\")"
   ]
  },
  {
   "cell_type": "code",
   "execution_count": 26,
   "id": "d9613f8c",
   "metadata": {},
   "outputs": [],
   "source": [
    "c1.assign_str_three(\"Three\")"
   ]
  },
  {
   "cell_type": "code",
   "execution_count": 27,
   "id": "779027d1",
   "metadata": {},
   "outputs": [
    {
     "data": {
      "text/plain": [
       "'one'"
      ]
     },
     "execution_count": 27,
     "metadata": {},
     "output_type": "execute_result"
    }
   ],
   "source": [
    "c1.show_str_one()"
   ]
  },
  {
   "cell_type": "code",
   "execution_count": 28,
   "id": "2ea6905b",
   "metadata": {},
   "outputs": [
    {
     "data": {
      "text/plain": [
       "'two'"
      ]
     },
     "execution_count": 28,
     "metadata": {},
     "output_type": "execute_result"
    }
   ],
   "source": [
    "c1.show_str_two()"
   ]
  },
  {
   "cell_type": "code",
   "execution_count": 29,
   "id": "6492465f",
   "metadata": {},
   "outputs": [
    {
     "data": {
      "text/plain": [
       "'Three'"
      ]
     },
     "execution_count": 29,
     "metadata": {},
     "output_type": "execute_result"
    }
   ],
   "source": [
    "c1.show_str_three()"
   ]
  },
  {
   "cell_type": "code",
   "execution_count": null,
   "id": "391c27b1",
   "metadata": {},
   "outputs": [],
   "source": []
  },
  {
   "cell_type": "code",
   "execution_count": 30,
   "id": "da443f41",
   "metadata": {},
   "outputs": [],
   "source": [
    "# Multilevel Inheritance"
   ]
  },
  {
   "cell_type": "code",
   "execution_count": 11,
   "id": "5d9a11b4",
   "metadata": {},
   "outputs": [],
   "source": [
    "class Parent():\n",
    "    def assign_name(self,name):\n",
    "        self.name = name\n",
    "    \n",
    "    def show_name(self):\n",
    "        return self.name\n"
   ]
  },
  {
   "cell_type": "code",
   "execution_count": 12,
   "id": "ab630f0b",
   "metadata": {},
   "outputs": [],
   "source": [
    "class Child(Parent):\n",
    "    def assign_age(self,age):\n",
    "        self.age = age\n",
    "    def show_age(self):\n",
    "        return self.age\n"
   ]
  },
  {
   "cell_type": "code",
   "execution_count": 13,
   "id": "702c6ec8",
   "metadata": {},
   "outputs": [],
   "source": [
    "class GrandChild(Child):\n",
    "    def assing_gender(self, gender):\n",
    "        self.gender = gender\n",
    "    def show_gender(self):\n",
    "        return self.gender\n"
   ]
  },
  {
   "cell_type": "code",
   "execution_count": 14,
   "id": "fb58897e",
   "metadata": {},
   "outputs": [],
   "source": [
    "gc = GrandChild()"
   ]
  },
  {
   "cell_type": "code",
   "execution_count": 15,
   "id": "d867aa9e",
   "metadata": {},
   "outputs": [],
   "source": [
    "gc.assign_name(\"Rutuja\")"
   ]
  },
  {
   "cell_type": "code",
   "execution_count": 16,
   "id": "72c7a7cb",
   "metadata": {},
   "outputs": [
    {
     "data": {
      "text/plain": [
       "'Rutuja'"
      ]
     },
     "execution_count": 16,
     "metadata": {},
     "output_type": "execute_result"
    }
   ],
   "source": [
    "gc.show_name()"
   ]
  },
  {
   "cell_type": "code",
   "execution_count": 17,
   "id": "5d6378ee",
   "metadata": {},
   "outputs": [],
   "source": [
    "gc.assign_age(23)"
   ]
  },
  {
   "cell_type": "code",
   "execution_count": 18,
   "id": "5ad81233",
   "metadata": {},
   "outputs": [
    {
     "data": {
      "text/plain": [
       "23"
      ]
     },
     "execution_count": 18,
     "metadata": {},
     "output_type": "execute_result"
    }
   ],
   "source": [
    "gc.show_age()"
   ]
  },
  {
   "cell_type": "code",
   "execution_count": 20,
   "id": "52701299",
   "metadata": {},
   "outputs": [
    {
     "data": {
      "text/plain": [
       "'Female'"
      ]
     },
     "execution_count": 20,
     "metadata": {},
     "output_type": "execute_result"
    }
   ],
   "source": [
    "gc.assing_gender(\"Female\")\n",
    "gc.show_gender()"
   ]
  },
  {
   "cell_type": "code",
   "execution_count": null,
   "id": "3b30cb1f",
   "metadata": {},
   "outputs": [],
   "source": []
  },
  {
   "cell_type": "code",
   "execution_count": null,
   "id": "c2781cc4",
   "metadata": {},
   "outputs": [],
   "source": []
  }
 ],
 "metadata": {
  "kernelspec": {
   "display_name": "Python 3 (ipykernel)",
   "language": "python",
   "name": "python3"
  },
  "language_info": {
   "codemirror_mode": {
    "name": "ipython",
    "version": 3
   },
   "file_extension": ".py",
   "mimetype": "text/x-python",
   "name": "python",
   "nbconvert_exporter": "python",
   "pygments_lexer": "ipython3",
   "version": "3.10.9"
  }
 },
 "nbformat": 4,
 "nbformat_minor": 5
}
