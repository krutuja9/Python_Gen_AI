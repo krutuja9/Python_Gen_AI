{
 "cells": [
  {
   "cell_type": "code",
   "execution_count": 20,
   "id": "9a20b906",
   "metadata": {},
   "outputs": [],
   "source": [
    "class Phone:\n",
    "    def set_color(self, color):\n",
    "        self.color = color\n",
    "    def set_cost (self,cost):\n",
    "        self.cost = cost\n",
    "    def show_color(self):\n",
    "        return self.color\n",
    "    def show_cost(self):\n",
    "        return self.cost\n",
    "    "
   ]
  },
  {
   "cell_type": "code",
   "execution_count": 21,
   "id": "6deb1b76",
   "metadata": {},
   "outputs": [],
   "source": [
    "p1 = Phone()"
   ]
  },
  {
   "cell_type": "code",
   "execution_count": 22,
   "id": "f50fb44f",
   "metadata": {},
   "outputs": [
    {
     "data": {
      "text/plain": [
       "'Blue'"
      ]
     },
     "execution_count": 22,
     "metadata": {},
     "output_type": "execute_result"
    }
   ],
   "source": [
    "p1.set_color(\"Blue\")\n",
    "p1.show_color()"
   ]
  },
  {
   "cell_type": "code",
   "execution_count": 23,
   "id": "bb7c7fb0",
   "metadata": {},
   "outputs": [
    {
     "data": {
      "text/plain": [
       "999"
      ]
     },
     "execution_count": 23,
     "metadata": {},
     "output_type": "execute_result"
    }
   ],
   "source": [
    "p1.set_cost(999)\n",
    "p1.show_cost()"
   ]
  },
  {
   "cell_type": "code",
   "execution_count": 24,
   "id": "6dcaafd3",
   "metadata": {},
   "outputs": [],
   "source": [
    "#constructor\n"
   ]
  },
  {
   "cell_type": "code",
   "execution_count": 25,
   "id": "2849b164",
   "metadata": {},
   "outputs": [],
   "source": [
    "class Employee:\n",
    "    def __init__(self, name, age, salary, gender):\n",
    "        self.name = name;\n",
    "        self.age= age\n",
    "        self.salary = salary\n",
    "        self.gender = gender\n",
    "        \n",
    "    def show_emplyoee_details(self):\n",
    "        print(\"Name of the employee is \", self.name)\n",
    "        print(\"Age of the employee is \", self.age)\n",
    "        print(\"Salary of the employee is \", self.salary)\n",
    "        print(\"Gender of the employee is \",self.gender)\n",
    "    "
   ]
  },
  {
   "cell_type": "code",
   "execution_count": 28,
   "id": "523caae0",
   "metadata": {},
   "outputs": [],
   "source": [
    "e1 = Employee('Rutuja',22,'50000','Female')"
   ]
  },
  {
   "cell_type": "code",
   "execution_count": 29,
   "id": "cc17cfdd",
   "metadata": {},
   "outputs": [
    {
     "name": "stdout",
     "output_type": "stream",
     "text": [
      "Name of the employee is  Rutuja\n",
      "Age of the employee is  22\n",
      "Salary of the employee is  50000\n",
      "Gender of the employee is  Female\n"
     ]
    }
   ],
   "source": [
    "e1.show_emplyoee_details()"
   ]
  },
  {
   "cell_type": "code",
   "execution_count": 30,
   "id": "b921fbc0",
   "metadata": {},
   "outputs": [],
   "source": [
    "#Inheritance"
   ]
  },
  {
   "cell_type": "code",
   "execution_count": 31,
   "id": "810606f7",
   "metadata": {},
   "outputs": [],
   "source": [
    "class Vehicle:\n",
    "    def __init__(self, mileage, cost):\n",
    "        self.mileage = mileage\n",
    "        self.cost = cost\n",
    "        \n",
    "    def show_vahicle(self):\n",
    "        print(\"I am vahicle\")\n",
    "        print(\"mileage of the vehicle is\", self.mileage)\n",
    "        print(\"Cost of the vehicle is \", self.cost)"
   ]
  },
  {
   "cell_type": "code",
   "execution_count": 35,
   "id": "9a6258d4",
   "metadata": {},
   "outputs": [],
   "source": [
    "v1 = Vehicle(500,500)"
   ]
  },
  {
   "cell_type": "code",
   "execution_count": 36,
   "id": "9b458d93",
   "metadata": {},
   "outputs": [
    {
     "name": "stdout",
     "output_type": "stream",
     "text": [
      "I am vahicle\n",
      "mileage of the vehicle is 500\n",
      "Cost of the vehicle is  500\n"
     ]
    }
   ],
   "source": [
    "v1.show_vahicle()"
   ]
  },
  {
   "cell_type": "code",
   "execution_count": 42,
   "id": "7384bbbd",
   "metadata": {},
   "outputs": [],
   "source": [
    "class Car(Vehicle):\n",
    "    def show_car(self):\n",
    "        print(\"I am a car\")\n",
    "        "
   ]
  },
  {
   "cell_type": "code",
   "execution_count": 45,
   "id": "c878c660",
   "metadata": {},
   "outputs": [],
   "source": [
    "c1 = Car(530,530)"
   ]
  },
  {
   "cell_type": "code",
   "execution_count": 46,
   "id": "b917387e",
   "metadata": {},
   "outputs": [
    {
     "name": "stdout",
     "output_type": "stream",
     "text": [
      "I am vahicle\n",
      "mileage of the vehicle is 530\n",
      "Cost of the vehicle is  530\n"
     ]
    }
   ],
   "source": [
    "c1.show_vahicle()"
   ]
  },
  {
   "cell_type": "code",
   "execution_count": 47,
   "id": "e7e9bd43",
   "metadata": {},
   "outputs": [
    {
     "name": "stdout",
     "output_type": "stream",
     "text": [
      "I am a car\n"
     ]
    }
   ],
   "source": [
    "c1.show_car()"
   ]
  },
  {
   "cell_type": "code",
   "execution_count": 48,
   "id": "b7fa1941",
   "metadata": {},
   "outputs": [],
   "source": [
    "# overriding init method\n"
   ]
  },
  {
   "cell_type": "code",
   "execution_count": 49,
   "id": "60146c51",
   "metadata": {},
   "outputs": [],
   "source": [
    "class Vehicle():\n",
    "    def __init__(self, mileage, cost):\n",
    "        self.mileage = mileage\n",
    "        self.cost = cost\n",
    "    \n",
    "    def show_vehicle_details(self):\n",
    "        print(\"I am a  vehicle\")\n",
    "        print(\"The mileage of the vehicle is \", self.mileage)\n",
    "        print(\"The cost of the vehicle is: \" , self.cost)\n",
    "        "
   ]
  },
  {
   "cell_type": "code",
   "execution_count": 56,
   "id": "6022a8ff",
   "metadata": {},
   "outputs": [],
   "source": [
    "class Car(Vehicle):\n",
    "    \n",
    "    def __init__(self, mileage, cost, types, hp):\n",
    "        super().__init__(mileage, cost)\n",
    "        self.types = types\n",
    "        self.hp = hp\n",
    "    \n",
    "    def show_car_details(self):\n",
    "        print(\"I am a car\")\n",
    "        print(\"the number of tres are\", self.types)\n",
    "        print(\"the horse power is,\", self.hp)\n",
    "        "
   ]
  },
  {
   "cell_type": "code",
   "execution_count": 58,
   "id": "2ac7f09e",
   "metadata": {},
   "outputs": [],
   "source": [
    "c1  =  Car(30,5000,4, 499)"
   ]
  },
  {
   "cell_type": "code",
   "execution_count": 62,
   "id": "b2344472",
   "metadata": {},
   "outputs": [
    {
     "name": "stdout",
     "output_type": "stream",
     "text": [
      "I am a car\n",
      "the number of tres are 4\n",
      "the horse power is, 499\n"
     ]
    }
   ],
   "source": [
    "c1.show_car_details()"
   ]
  },
  {
   "cell_type": "code",
   "execution_count": 63,
   "id": "7ae6b7e9",
   "metadata": {},
   "outputs": [
    {
     "ename": "AttributeError",
     "evalue": "'Car' object has no attribute 'show_vehicle_details'",
     "output_type": "error",
     "traceback": [
      "\u001b[1;31m---------------------------------------------------------------------------\u001b[0m",
      "\u001b[1;31mAttributeError\u001b[0m                            Traceback (most recent call last)",
      "Cell \u001b[1;32mIn[63], line 1\u001b[0m\n\u001b[1;32m----> 1\u001b[0m \u001b[43mc1\u001b[49m\u001b[38;5;241;43m.\u001b[39;49m\u001b[43mshow_vehicle_details\u001b[49m()\n",
      "\u001b[1;31mAttributeError\u001b[0m: 'Car' object has no attribute 'show_vehicle_details'"
     ]
    }
   ],
   "source": [
    "c1.show_vehicle_details()"
   ]
  },
  {
   "cell_type": "code",
   "execution_count": null,
   "id": "98376ac9",
   "metadata": {},
   "outputs": [],
   "source": []
  }
 ],
 "metadata": {
  "kernelspec": {
   "display_name": "Python 3 (ipykernel)",
   "language": "python",
   "name": "python3"
  },
  "language_info": {
   "codemirror_mode": {
    "name": "ipython",
    "version": 3
   },
   "file_extension": ".py",
   "mimetype": "text/x-python",
   "name": "python",
   "nbconvert_exporter": "python",
   "pygments_lexer": "ipython3",
   "version": "3.10.9"
  }
 },
 "nbformat": 4,
 "nbformat_minor": 5
}
